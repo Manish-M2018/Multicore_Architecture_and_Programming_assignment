{
 "cells": [
  {
   "cell_type": "code",
   "execution_count": 13,
   "metadata": {},
   "outputs": [],
   "source": [
    "import numba\n",
    "from numba import jit, vectorize, njit, prange\n",
    "import numpy as np\n",
    "import time\n",
    "import math"
   ]
  },
  {
   "cell_type": "code",
   "execution_count": 15,
   "metadata": {},
   "outputs": [],
   "source": [
    "# Function to run Kmeans clustering in parallel execution mode\n",
    "@njit(parallel=True)\n",
    "def parallelized_kmeans(A, N, init_centroids, num_centers=5, iterations=20, D=10):\n",
    "    \n",
    "    centroids = init_centroids\n",
    "    for l in prange(iterations):\n",
    "        # Distance represents the distances from the various points to the centroids of the clusters\n",
    "        dist = np.array([[math.sqrt(np.sum((A[i,:]-centroids[j,:])**2)) for j in range(num_centers)]for i in range(N)])\n",
    "        \n",
    "        labels = np.array([dist[i,:].argmin() for i in range(N)])\n",
    "        \n",
    "        # 'Centroids' represent the centroids of the clusters\n",
    "        centroids = np.array([[np.sum(A[labels==i, j])/np.sum(labels==i) for j in range(D)]\n",
    "                             for i in range(num_centers)])\n",
    "    \n",
    "    return centroids"
   ]
  },
  {
   "cell_type": "code",
   "execution_count": 16,
   "metadata": {},
   "outputs": [],
   "source": [
    "# Function to execute KMeans serially\n",
    "def serial_kmeans(A, N, init_centroids, clusters=5, iterations=20, D=10):\n",
    "    \n",
    "    centroids = init_centroids\n",
    "    for l in range(iterations):\n",
    "        # Distance represents the distances from the various points to the centroids of the clusters\n",
    "        dist = np.array([[math.sqrt(np.sum((A[i,:]-centroids[j,:])**2)) for j in range(clusters)]for i in range(N)])\n",
    "        labels = np.array([dist[i,:].argmin() for i in range(N)])\n",
    "        # 'Centroids' represent the centroids of the clusters\n",
    "        centroids = np.array([[np.sum(A[labels==i, j])/np.sum(labels==i) for j in prange(D)]\n",
    "                             for i in prange(clusters)])\n",
    "        \n",
    "    return centroids"
   ]
  },
  {
   "cell_type": "code",
   "execution_count": 17,
   "metadata": {},
   "outputs": [],
   "source": [
    "# Function to compare the time taken for executing parallely and serially\n",
    "def compare_time():\n",
    "    \n",
    "    startp, starts, endp, ends = 0,0,0,0\n",
    "    \n",
    "    size = 10000\n",
    "    features = 10\n",
    "    clusters = 5\n",
    "    iterations = 20\n",
    "    \n",
    "    np.random.seed(0)\n",
    "    initial_centroids = np.random.ranf((clusters, features))\n",
    "    # Print out the initial centroids of the clusters\n",
    "    print(\"Initial Centroids : \",initial_centroids)\n",
    "    print(\"\\n\")\n",
    "    data = np.random.ranf((size, features))\n",
    "    \n",
    "    startp=time.time()\n",
    "    k_means = parallelized_kmeans(A=data, N=size, init_centroids=initial_centroids)\n",
    "    endp=time.time()\n",
    "    \n",
    "    # Print out the time taken for execution in parallel mode\n",
    "    print(\"Clusters (parallel) : \\n\",k_means)\n",
    "    print(\"\\nTime taken : {:.2f} seconds\\n\\n\".format(endp-startp))\n",
    "    \n",
    "    starts=time.time()\n",
    "    serial_k_means = serial_kmeans(A=data, N=size, init_centroids=initial_centroids)\n",
    "    endp=time.time()\n",
    "    \n",
    "    # Print out the time taken for execution in serial mode\n",
    "    print(\"Clusters (serial) : \\n\",serial_k_means)\n",
    "    print(\"\\nTime taken : {:.2f} seconds\\n\".format(endp-startp))\n",
    "    \n",
    "    if serial_k_means.sum() == k_means.sum():\n",
    "        print(\"\\nSuccessful execution\")"
   ]
  },
  {
   "cell_type": "code",
   "execution_count": 18,
   "metadata": {},
   "outputs": [
    {
     "name": "stdout",
     "output_type": "stream",
     "text": [
      "Initial Centroids :  [[0.5488135  0.71518937 0.60276338 0.54488318 0.4236548  0.64589411\n",
      "  0.43758721 0.891773   0.96366276 0.38344152]\n",
      " [0.79172504 0.52889492 0.56804456 0.92559664 0.07103606 0.0871293\n",
      "  0.0202184  0.83261985 0.77815675 0.87001215]\n",
      " [0.97861834 0.79915856 0.46147936 0.78052918 0.11827443 0.63992102\n",
      "  0.14335329 0.94466892 0.52184832 0.41466194]\n",
      " [0.26455561 0.77423369 0.45615033 0.56843395 0.0187898  0.6176355\n",
      "  0.61209572 0.616934   0.94374808 0.6818203 ]\n",
      " [0.3595079  0.43703195 0.6976312  0.06022547 0.66676672 0.67063787\n",
      "  0.21038256 0.1289263  0.31542835 0.36371077]]\n",
      "\n",
      "\n",
      "Clusters (parallel) : \n",
      " [[0.5488135  0.71518937 0.60276338 0.54488318 0.4236548  0.64589411\n",
      "  0.43758721 0.891773   0.96366276 0.38344152]\n",
      " [0.79172504 0.52889492 0.56804456 0.92559664 0.07103606 0.0871293\n",
      "  0.0202184  0.83261985 0.77815675 0.87001215]\n",
      " [0.97861834 0.79915856 0.46147936 0.78052918 0.11827443 0.63992102\n",
      "  0.14335329 0.94466892 0.52184832 0.41466194]\n",
      " [0.26455561 0.77423369 0.45615033 0.56843395 0.0187898  0.6176355\n",
      "  0.61209572 0.616934   0.94374808 0.6818203 ]\n",
      " [0.3595079  0.43703195 0.6976312  0.06022547 0.66676672 0.67063787\n",
      "  0.21038256 0.1289263  0.31542835 0.36371077]]\n",
      "\n",
      "Time taken : 3.17 seconds\n",
      "\n",
      "\n",
      "Clusters (serial) : \n",
      " [[0.50758333 0.55082095 0.5341867  0.45886483 0.71012713 0.55054546\n",
      "  0.51541065 0.62155111 0.77153917 0.44055847]\n",
      " [0.56929748 0.40531163 0.51547778 0.72803951 0.53497814 0.30943767\n",
      "  0.35363885 0.44871313 0.49695484 0.68286129]\n",
      " [0.58941929 0.59676212 0.55367476 0.57397303 0.34211243 0.61523201\n",
      "  0.5304572  0.67403468 0.28451154 0.4095317 ]\n",
      " [0.39955644 0.41143764 0.42314124 0.46174211 0.24722522 0.59412343\n",
      "  0.59571463 0.39019271 0.67730155 0.56422547]\n",
      " [0.44764674 0.50426099 0.44110782 0.2926393  0.63402893 0.40543351\n",
      "  0.49372444 0.36537494 0.267561   0.43122036]]\n",
      "\n",
      "Time taken : 10.19 seconds\n",
      "\n"
     ]
    }
   ],
   "source": [
    "# Call the function to print out the time taken in serial and parallel modes\n",
    "compare_time()"
   ]
  }
 ],
 "metadata": {
  "kernelspec": {
   "display_name": "Python 3",
   "language": "python",
   "name": "python3"
  },
  "language_info": {
   "codemirror_mode": {
    "name": "ipython",
    "version": 3
   },
   "file_extension": ".py",
   "mimetype": "text/x-python",
   "name": "python",
   "nbconvert_exporter": "python",
   "pygments_lexer": "ipython3",
   "version": "3.7.3"
  }
 },
 "nbformat": 4,
 "nbformat_minor": 2
}
